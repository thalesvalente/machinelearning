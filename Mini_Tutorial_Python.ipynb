{
  "nbformat": 4,
  "nbformat_minor": 0,
  "metadata": {
    "kernelspec": {
      "display_name": "Python 2",
      "language": "python",
      "name": "python2"
    },
    "language_info": {
      "codemirror_mode": {
        "name": "ipython",
        "version": 2
      },
      "file_extension": ".py",
      "mimetype": "text/x-python",
      "name": "python",
      "nbconvert_exporter": "python",
      "pygments_lexer": "ipython2",
      "version": "2.7.13"
    },
    "colab": {
      "name": "Mini_Tutorial_Python.ipynb",
      "version": "0.3.2",
      "provenance": [],
      "collapsed_sections": [],
      "toc_visible": true,
      "include_colab_link": true
    }
  },
  "cells": [
    {
      "cell_type": "markdown",
      "metadata": {
        "id": "view-in-github",
        "colab_type": "text"
      },
      "source": [
        "<a href=\"https://colab.research.google.com/github/thalesvalente/machinelearning/blob/master/Mini_Tutorial_Python.ipynb\" target=\"_parent\"><img src=\"https://colab.research.google.com/assets/colab-badge.svg\" alt=\"Open In Colab\"/></a>"
      ]
    },
    {
      "cell_type": "markdown",
      "metadata": {
        "id": "r5yNOA_LDQIk",
        "colab_type": "text"
      },
      "source": [
        "#1 Mini tutorial python para iniciantes\n",
        "\n",
        "Olá! Hoje vamos  iniciar os primeiros passos para criar códigos em python. A intenção deste material é fornecer direções e dicas básicas. Não ensinar de fato. Pode ser meio corrido, mas dúvidas podem ser tiradas com www.google.com. E claro, thales.l.a.valente@gmail.com ;).   \n",
        "Vamos ao que interessa. Aqui você terá a direção para iniciar seus estudos relacionados aos seguinte ítens.\n",
        "- Colab\n",
        "- Python (básico e as bibliotecas pandas, matplotlib e numpy)\n",
        "- Vetorização em python (não é nada disso que você está pensando :) Vamos com calma!)\n",
        "\n",
        "Então, vamos ser rápidos! Em 6 horas totalmente dedicadas você poderá aprender a se localizar em tudo (não decorar) se focar! \n",
        "Oriento vocês a não tentarem ler tudo pois não terão tempo! Como programadores, temos olhos de águia e temos a capacidade de identificar rápido os códigos  (nossas presas) que precisamos. Então, utilize e devenvolva essa habilidade para capturar as informações de acordo com a necessidade. Let´s go!!!"
      ]
    },
    {
      "cell_type": "markdown",
      "metadata": {
        "id": "4U0oubIoGLFI",
        "colab_type": "text"
      },
      "source": [
        "## 1.1 Colab\n",
        "Colab é uma ferramenta do google que já fornece um \"ambiente pronto\"  e gratuito para você começar a desenvolver seus códigos python. Ou seja, você tem disponível:\n",
        "- Hadware (GPU, CPU, RAM e disco)\n",
        "- Bibliotecas pré-instaladas (matplot, numpy,, tensorflow, keras,  opencv....lib $n$)\n",
        "- Um ambiente notebook jupyter\n",
        "- Integração com o google drive\n",
        "\n",
        "\n"
      ]
    },
    {
      "cell_type": "markdown",
      "metadata": {
        "id": "MqOs550CI3mK",
        "colab_type": "text"
      },
      "source": [
        "###1.1.1 Hardware\n",
        "\n",
        "Os recursos de hardware disponíveis são limitados. No entanto, são bem satisfatórios para iniciar inclusive projetos com redes neurais.\n",
        "Abra o link abaixo e execute a página em modo playground. Executar em modo playground é uma forma de você executar códigos sem salvar dados ou realizar modificações permanentes no código. Para executar em modo playground faça:\n",
        "- clique no link > procure o botão \"Open in playground\" > clique > execute os códigos que desejar\n",
        "\n",
        "link: https://colab.research.google.com/drive/151805XTDg--dgHb3-AXJCpnWaqRhop_2"
      ]
    },
    {
      "cell_type": "markdown",
      "metadata": {
        "id": "EvQrzYVdKnsl",
        "colab_type": "text"
      },
      "source": [
        "###1.1.2 Bibliotecas pré-instaladas\n",
        "\n",
        "Isso mesmo. O Colab nos fornece diversas bibliotecas python. Isso significa que você pode pular os passos de instalação de um ambiente de programação e configuração. Para verificar as bibliotecas préintaladas, execute a célula de abaixo.  \n",
        "Vale ressaltar que você também pode instalar bibliotecas de sua preferência :), como ilustrado em https://colab.research.google.com/notebooks/snippets/importing_libraries.ipynb\n"
      ]
    },
    {
      "cell_type": "code",
      "metadata": {
        "id": "yOEr_vRHM8vC",
        "colab_type": "code",
        "colab": {}
      },
      "source": [
        "!pip freeze"
      ],
      "execution_count": 0,
      "outputs": []
    },
    {
      "cell_type": "markdown",
      "metadata": {
        "id": "6wT0wHjzDZr2",
        "colab_type": "text"
      },
      "source": [
        "###1.1.3 Ambiente notebook jupyter\n",
        "Vamos falar o básico que você precisa saber e o resto é ler documentação. Basicamente existem dois tipos de célula (markdowncells - bloco onde você escreve o que deseja)\n",
        "- Text: como esta célula, você pode inserir texto, fórmulas usando [mathjax](https://www.mathjax.org/#samples) (fórmulas matemáticas like a latex) e inserir figuras, links e etc usando html e outras ferramentas. Recomendo [este link](https://jupyter-notebook.readthedocs.io/en/latest/examples/Notebook/examples_index.html).\n",
        "- Code:  onde você digita seu código e executa\n",
        "\n",
        "As células podem ser executadas separadamente. No entanto, devem ser executadas em ordem caso o código contida em uma seja ´rérequisito para outra (exemplo: importar bibliotecas, métodos definidos em células anteriores, etc)"
      ]
    },
    {
      "cell_type": "markdown",
      "metadata": {
        "id": "J8hi-h8MFJ1B",
        "colab_type": "text"
      },
      "source": [
        "###1.1.4 Integração com o google drive\n",
        "\n",
        "Isso mesmo! Você pode usar seu drive pessoal para armazenar seus códigos.\n",
        "Segue o link que ensina como carregar imagens contidas no google drive. A mesma idéia serve para outros arquivos. Abra a [Seção 1.2](1cP5PfC83AQCThrBMrCZUh4T-BaA6zcH7#scrollTo=GFcO1obYVKwi) deste outro material :)"
      ]
    },
    {
      "cell_type": "code",
      "metadata": {
        "id": "WBu2nY_k_VV2",
        "colab_type": "code",
        "outputId": "842b1f83-822a-46ee-c3d9-66f1965f163a",
        "colab": {
          "base_uri": "https://localhost:8080/",
          "height": 122
        }
      },
      "source": [
        "from google.colab import drive\n",
        "import io\n",
        "\n",
        "drive.mount('/content/gdrive')"
      ],
      "execution_count": 0,
      "outputs": [
        {
          "output_type": "stream",
          "text": [
            "Go to this URL in a browser: https://accounts.google.com/o/oauth2/auth?client_id=947318989803-6bn6qk8qdgf4n4g3pfee6491hc0brc4i.apps.googleusercontent.com&redirect_uri=urn%3Aietf%3Awg%3Aoauth%3A2.0%3Aoob&scope=email%20https%3A%2F%2Fwww.googleapis.com%2Fauth%2Fdocs.test%20https%3A%2F%2Fwww.googleapis.com%2Fauth%2Fdrive%20https%3A%2F%2Fwww.googleapis.com%2Fauth%2Fdrive.photos.readonly%20https%3A%2F%2Fwww.googleapis.com%2Fauth%2Fpeopleapi.readonly&response_type=code\n",
            "\n",
            "Enter your authorization code:\n",
            "··········\n",
            "Mounted at /content/gdrive\n"
          ],
          "name": "stdout"
        }
      ]
    },
    {
      "cell_type": "markdown",
      "metadata": {
        "id": "P0YO0x-BIQ2k",
        "colab_type": "text"
      },
      "source": [
        "##1.2 Python (básico e as bibliotecas pandas, matplotlib e numpy)\n",
        "\n",
        "Nesta seção serão apresentadas 2 tipos de direções principais:\n",
        "- Links úteis\n",
        "- Exemplos básicos\n",
        "\n",
        "Vamos ser rápidos e práticos. Mãos a obra :)"
      ]
    },
    {
      "cell_type": "markdown",
      "metadata": {
        "id": "VAU2q34DIsA0",
        "colab_type": "text"
      },
      "source": [
        "###1.2.1 Links úteis\n",
        "\n",
        "- Exemplos básicos de Python\n",
        "  - exemplos rápidos: [1](https://www.makeuseof.com/tag/basic-python-examples-learn-fast/)\n",
        "  - exemplos mais completos: [2](https://www.geeksforgeeks.org/python-programming-examples/#simple) e [3](https://www.tutorialspoint.com/python_programming_examples/2)\n",
        "- Pandas\n",
        "  - exemplos rápidos: [1- com exercícios e soluções](https://www.datacamp.com/community/tutorials/pandas-tutorial-dataframe-python) e [2](https://www.learndatasci.com/tutorials/python-pandas-tutorial-complete-introduction-for-beginners/)  \n",
        "  - [ler arquivos do excel](https://pandas.pydata.org/pandas-docs/stable/generated/pandas.read_excel.html)\n",
        "  - [documentação](https://pandas.pydata.org/pandas-docs/stable/getting_started/10min.html)\n",
        "- Matplotlib  \n",
        "  - [2D](https://matplotlib.org/tutorials/introductory/sample_plots.html)\n",
        "  - [3D](https://matplotlib.org/mpl_toolkits/mplot3d/tutorial.html)\n",
        "- Numpy\n",
        "  - exemplos rápidos: [1](https://docs.scipy.org/doc/numpy-1.13.0/user/quickstart.html)  \n",
        "  - [documentação](https://matplotlib.org/contents.html)\n",
        "- [Numpy + pandas](https://www.hackerearth.com/pt-br/practice/machine-learning/data-manipulation-visualisation-r-python/tutorial-data-manipulation-numpy-pandas-python/tutorial/)\n",
        "\n",
        "Importante: é imprescindível a utilização do numpy para fazer o trabalho. O numpy possui rotinas matemáticas otimizadas e também facilita muito trabalhar com vetores e matrizes. **CONSELHO: Não tente fazer as operações na \"mão\"!**  \n",
        "Veremos mais detalhes na Seção sobre XXX"
      ]
    },
    {
      "cell_type": "markdown",
      "metadata": {
        "id": "TuIlTQTeZ_nk",
        "colab_type": "text"
      },
      "source": [
        "###1.2.2 Exemplos básicos\n",
        "\n",
        "Veremos alguns exemplos rapidamente. Lembre-se de verificar os links úteis caso tenha dúvidas!"
      ]
    },
    {
      "cell_type": "markdown",
      "metadata": {
        "id": "62we1gZ5L-Zc",
        "colab_type": "text"
      },
      "source": [
        "#### 1.2.2.1 Importando os pacotes necessários..."
      ]
    },
    {
      "cell_type": "code",
      "metadata": {
        "id": "gDpfvNTZL-Zd",
        "colab_type": "code",
        "colab": {}
      },
      "source": [
        "# Importar e manipular dados\n",
        "import pandas as pd \n",
        "\n",
        "# Manipular dados\n",
        "import numpy as np\n",
        "\n",
        "# Ferramentas de visualizacao de dados\n",
        "from mpl_toolkits.mplot3d import Axes3D\n",
        "from mpl_toolkits.mplot3d.art3d import Poly3DCollection\n",
        "import matplotlib.pyplot as plt\n",
        "%matplotlib inline"
      ],
      "execution_count": 0,
      "outputs": []
    },
    {
      "cell_type": "markdown",
      "metadata": {
        "id": "FuJ4b4VIL-Zi",
        "colab_type": "text"
      },
      "source": [
        "#### 1.2.2.2 Abrindo arquivo .xls e importando os dados (Pandas)\n",
        "São executados os seguintes passos:\n",
        "- ler arquivo .csv do google drive\n",
        "- exibir os dados lidos\n",
        "- exibir o tipo da variável que guarda os dados\n",
        "- exibir as colunas com seus respectivos tipos"
      ]
    },
    {
      "cell_type": "code",
      "metadata": {
        "id": "btrYXgpFL-Zl",
        "colab_type": "code",
        "colab": {}
      },
      "source": [
        "#data = pd.read_csv(io.BytesIO('/content/gdrive/My Drive/Colab Notebooks/CG/all_1nm_data.xls'))\n",
        "data = pd.read_excel('/content/gdrive/My Drive/Colab Notebooks/CG/all_1nm_data.xls', header=0, skiprows=3) "
      ],
      "execution_count": 0,
      "outputs": []
    },
    {
      "cell_type": "code",
      "metadata": {
        "id": "0xR1Do7oL-Zn",
        "colab_type": "code",
        "colab": {}
      },
      "source": [
        "data"
      ],
      "execution_count": 0,
      "outputs": []
    },
    {
      "cell_type": "code",
      "metadata": {
        "id": "hc0zrdvWL-Zr",
        "colab_type": "code",
        "colab": {}
      },
      "source": [
        "type(data)"
      ],
      "execution_count": 0,
      "outputs": []
    },
    {
      "cell_type": "code",
      "metadata": {
        "id": "39ZgegmnL-Zu",
        "colab_type": "code",
        "colab": {}
      },
      "source": [
        "data.dtypes"
      ],
      "execution_count": 0,
      "outputs": []
    },
    {
      "cell_type": "code",
      "metadata": {
        "id": "kwBNGF1ML-Zw",
        "colab_type": "code",
        "colab": {}
      },
      "source": [
        "data.columns"
      ],
      "execution_count": 0,
      "outputs": []
    },
    {
      "cell_type": "markdown",
      "metadata": {
        "id": "83fM3dWmL-Zy",
        "colab_type": "text"
      },
      "source": [
        "####  1.2.2.3 Manipulando os dados (Pandas + Numpy)\n",
        "São executados os seguintes passos:\n",
        "- acessar uma determinada coluna\n",
        "- acessar um determinado elemento de uma coluna\n",
        "- converter uma coluna para lista\n",
        "- acessar um elemento da lista"
      ]
    },
    {
      "cell_type": "code",
      "metadata": {
        "scrolled": true,
        "id": "xXdeCqBoL-Z1",
        "colab_type": "code",
        "colab": {}
      },
      "source": [
        "data['nm']"
      ],
      "execution_count": 0,
      "outputs": []
    },
    {
      "cell_type": "code",
      "metadata": {
        "id": "Yb5B1CGzL-Z3",
        "colab_type": "code",
        "colab": {}
      },
      "source": [
        "data['nm'][0]"
      ],
      "execution_count": 0,
      "outputs": []
    },
    {
      "cell_type": "code",
      "metadata": {
        "scrolled": true,
        "id": "z87QnPuYL-Z5",
        "colab_type": "code",
        "colab": {}
      },
      "source": [
        "col_1 = data['CIE A'].tolist()\n",
        "col_1"
      ],
      "execution_count": 0,
      "outputs": []
    },
    {
      "cell_type": "code",
      "metadata": {
        "id": "VJPD-vAML-Z8",
        "colab_type": "code",
        "colab": {}
      },
      "source": [
        "col_1[0]"
      ],
      "execution_count": 0,
      "outputs": []
    },
    {
      "cell_type": "markdown",
      "metadata": {
        "id": "BClAxOKvL-aA",
        "colab_type": "text"
      },
      "source": [
        "#### 1.2.2.4 Numpy - operações básicas "
      ]
    },
    {
      "cell_type": "code",
      "metadata": {
        "id": "JroUHm5SL-aA",
        "colab_type": "code",
        "colab": {}
      },
      "source": [
        "a = np.array([[1, 1, 1], [2, 2, 2]])\n",
        "b = np.array([[3, 3, 3], [3, 3, 3]])"
      ],
      "execution_count": 0,
      "outputs": []
    },
    {
      "cell_type": "code",
      "metadata": {
        "id": "bNpUO7NVL-aE",
        "colab_type": "code",
        "outputId": "30bef0fc-0117-4bf5-fb4a-114cd97ed4ae",
        "colab": {
          "base_uri": "https://localhost:8080/",
          "height": 34
        }
      },
      "source": [
        "a[0]"
      ],
      "execution_count": 0,
      "outputs": [
        {
          "output_type": "execute_result",
          "data": {
            "text/plain": [
              "array([1, 1, 1])"
            ]
          },
          "metadata": {
            "tags": []
          },
          "execution_count": 18
        }
      ]
    },
    {
      "cell_type": "code",
      "metadata": {
        "id": "izzGroMWL-aG",
        "colab_type": "code",
        "outputId": "7a87df87-ef7d-4f1c-9dbb-e8ca069b8581",
        "colab": {
          "base_uri": "https://localhost:8080/",
          "height": 34
        }
      },
      "source": [
        "a.shape"
      ],
      "execution_count": 0,
      "outputs": [
        {
          "output_type": "execute_result",
          "data": {
            "text/plain": [
              "(2, 3)"
            ]
          },
          "metadata": {
            "tags": []
          },
          "execution_count": 19
        }
      ]
    },
    {
      "cell_type": "code",
      "metadata": {
        "id": "3ho5dYZgL-aJ",
        "colab_type": "code",
        "outputId": "96700b59-5306-4410-a89b-c87003caeb70",
        "colab": {
          "base_uri": "https://localhost:8080/",
          "height": 34
        }
      },
      "source": [
        "a.size"
      ],
      "execution_count": 0,
      "outputs": [
        {
          "output_type": "execute_result",
          "data": {
            "text/plain": [
              "6"
            ]
          },
          "metadata": {
            "tags": []
          },
          "execution_count": 20
        }
      ]
    },
    {
      "cell_type": "code",
      "metadata": {
        "id": "5JnYAvQbL-aM",
        "colab_type": "code",
        "outputId": "61031ac9-9878-41ad-cb8b-9b63ecd29894",
        "colab": {
          "base_uri": "https://localhost:8080/",
          "height": 50
        }
      },
      "source": [
        "# Adição\n",
        "\n",
        "a + b"
      ],
      "execution_count": 0,
      "outputs": [
        {
          "output_type": "execute_result",
          "data": {
            "text/plain": [
              "array([[4, 4, 4],\n",
              "       [5, 5, 5]])"
            ]
          },
          "metadata": {
            "tags": []
          },
          "execution_count": 21
        }
      ]
    },
    {
      "cell_type": "code",
      "metadata": {
        "id": "RK0P5nikL-aO",
        "colab_type": "code",
        "outputId": "5e51b9b7-ad6c-488c-f5a0-be9a3d312b6f",
        "colab": {
          "base_uri": "https://localhost:8080/",
          "height": 50
        }
      },
      "source": [
        "# Multiplicação elemento a elemento\n",
        "\n",
        "a*b"
      ],
      "execution_count": 0,
      "outputs": [
        {
          "output_type": "execute_result",
          "data": {
            "text/plain": [
              "array([[3, 3, 3],\n",
              "       [6, 6, 6]])"
            ]
          },
          "metadata": {
            "tags": []
          },
          "execution_count": 22
        }
      ]
    },
    {
      "cell_type": "code",
      "metadata": {
        "id": "JTtUGO_pL-aR",
        "colab_type": "code",
        "outputId": "6bb2c093-051b-4bd2-b660-4b465712b272",
        "colab": {
          "base_uri": "https://localhost:8080/",
          "height": 178
        }
      },
      "source": [
        "## Atenção: o operador * não serve para multiplicação matricial!\n",
        "\n",
        "a*np.transpose(b)"
      ],
      "execution_count": 0,
      "outputs": [
        {
          "output_type": "error",
          "ename": "ValueError",
          "evalue": "ignored",
          "traceback": [
            "\u001b[0;31m\u001b[0m",
            "\u001b[0;31mValueError\u001b[0mTraceback (most recent call last)",
            "\u001b[0;32m<ipython-input-23-8181f054b22d>\u001b[0m in \u001b[0;36m<module>\u001b[0;34m()\u001b[0m\n\u001b[1;32m      1\u001b[0m \u001b[0;34m\u001b[0m\u001b[0m\n\u001b[0;32m----> 2\u001b[0;31m \u001b[0ma\u001b[0m\u001b[0;34m*\u001b[0m\u001b[0mnp\u001b[0m\u001b[0;34m.\u001b[0m\u001b[0mtranspose\u001b[0m\u001b[0;34m(\u001b[0m\u001b[0mb\u001b[0m\u001b[0;34m)\u001b[0m\u001b[0;34m\u001b[0m\u001b[0;34m\u001b[0m\u001b[0m\n\u001b[0m",
            "\u001b[0;31mValueError\u001b[0m: operands could not be broadcast together with shapes (2,3) (3,2) "
          ]
        }
      ]
    },
    {
      "cell_type": "code",
      "metadata": {
        "id": "INCB9W7uL-aZ",
        "colab_type": "code",
        "outputId": "00736287-2e5f-481e-dc04-6fe9843593ec",
        "colab": {
          "base_uri": "https://localhost:8080/",
          "height": 50
        }
      },
      "source": [
        "# Multiplicação matricial\n",
        "\n",
        "np.dot(a, np.transpose(b))"
      ],
      "execution_count": 0,
      "outputs": [
        {
          "output_type": "execute_result",
          "data": {
            "text/plain": [
              "array([[ 9,  9],\n",
              "       [18, 18]])"
            ]
          },
          "metadata": {
            "tags": []
          },
          "execution_count": 24
        }
      ]
    },
    {
      "cell_type": "code",
      "metadata": {
        "id": "NHKQ7kl6L-ae",
        "colab_type": "code",
        "outputId": "9d3a837a-7264-42b8-9692-e074f51ea1b0",
        "colab": {
          "base_uri": "https://localhost:8080/",
          "height": 84
        }
      },
      "source": [
        "# Exponenciação\n",
        "\n",
        "print(a)\n",
        "np.power(a, 3)"
      ],
      "execution_count": 0,
      "outputs": [
        {
          "output_type": "stream",
          "text": [
            "[[1 1 1]\n",
            " [2 2 2]]\n"
          ],
          "name": "stdout"
        },
        {
          "output_type": "execute_result",
          "data": {
            "text/plain": [
              "array([[1, 1, 1],\n",
              "       [8, 8, 8]])"
            ]
          },
          "metadata": {
            "tags": []
          },
          "execution_count": 25
        }
      ]
    },
    {
      "cell_type": "code",
      "metadata": {
        "id": "J9J9tiOTL-ah",
        "colab_type": "code",
        "outputId": "dcdc6d57-8526-45fb-c68a-df20dae8afea",
        "colab": {
          "base_uri": "https://localhost:8080/",
          "height": 34
        }
      },
      "source": [
        "# Somar todos os elementos do array\n",
        "\n",
        "np.sum(a)"
      ],
      "execution_count": 0,
      "outputs": [
        {
          "output_type": "execute_result",
          "data": {
            "text/plain": [
              "9"
            ]
          },
          "metadata": {
            "tags": []
          },
          "execution_count": 26
        }
      ]
    },
    {
      "cell_type": "code",
      "metadata": {
        "id": "J2HJtMLdL-ak",
        "colab_type": "code",
        "outputId": "1ede8892-dfac-453c-97e9-d2aed95aa110",
        "colab": {
          "base_uri": "https://localhost:8080/",
          "height": 34
        }
      },
      "source": [
        "# Fazer a média dos elementos do array\n",
        "\n",
        "np.mean(a)"
      ],
      "execution_count": 0,
      "outputs": [
        {
          "output_type": "execute_result",
          "data": {
            "text/plain": [
              "1.5"
            ]
          },
          "metadata": {
            "tags": []
          },
          "execution_count": 27
        }
      ]
    },
    {
      "cell_type": "markdown",
      "metadata": {
        "id": "A7TXqoy_L-ap",
        "colab_type": "text"
      },
      "source": [
        "#### 1.2.2.5 Transformando o Dataframe do Pandas em um Numpy Array"
      ]
    },
    {
      "cell_type": "code",
      "metadata": {
        "scrolled": true,
        "id": "0HBxpi6hL-as",
        "colab_type": "code",
        "colab": {}
      },
      "source": [
        "np.array(data['nm'])"
      ],
      "execution_count": 0,
      "outputs": []
    },
    {
      "cell_type": "code",
      "metadata": {
        "id": "pWF5voHgL-ay",
        "colab_type": "code",
        "colab": {}
      },
      "source": [
        "x_bar = np.array(data['x bar'])\n",
        "x_bar"
      ],
      "execution_count": 0,
      "outputs": []
    },
    {
      "cell_type": "code",
      "metadata": {
        "id": "D_lHaUtjL-a3",
        "colab_type": "code",
        "colab": {}
      },
      "source": [
        "nan_locs = np.isnan(x_bar)\n",
        "x_bar[nan_locs] = 0\n",
        "x_bar"
      ],
      "execution_count": 0,
      "outputs": []
    },
    {
      "cell_type": "code",
      "metadata": {
        "id": "lVm1PlDzL-a8",
        "colab_type": "code",
        "colab": {}
      },
      "source": [
        "np.where(x_bar == 0.0)"
      ],
      "execution_count": 0,
      "outputs": []
    },
    {
      "cell_type": "markdown",
      "metadata": {
        "id": "VI0M0xTeL-bA",
        "colab_type": "text"
      },
      "source": [
        "#### 1.2.2.6  Visualizando os dados (Matplotlib)"
      ]
    },
    {
      "cell_type": "markdown",
      "metadata": {
        "id": "qJyvGoKhL-bC",
        "colab_type": "text"
      },
      "source": [
        "#####  1.2.2.6.1 2D"
      ]
    },
    {
      "cell_type": "code",
      "metadata": {
        "id": "FaPhi3mfL-bG",
        "colab_type": "code",
        "outputId": "50a62186-0d90-4244-a189-5a4c19ea5399",
        "colab": {
          "base_uri": "https://localhost:8080/",
          "height": 1000
        }
      },
      "source": [
        "index = range(len(x_bar))\n",
        "index"
      ],
      "execution_count": 0,
      "outputs": [
        {
          "output_type": "execute_result",
          "data": {
            "text/plain": [
              "[0,\n",
              " 1,\n",
              " 2,\n",
              " 3,\n",
              " 4,\n",
              " 5,\n",
              " 6,\n",
              " 7,\n",
              " 8,\n",
              " 9,\n",
              " 10,\n",
              " 11,\n",
              " 12,\n",
              " 13,\n",
              " 14,\n",
              " 15,\n",
              " 16,\n",
              " 17,\n",
              " 18,\n",
              " 19,\n",
              " 20,\n",
              " 21,\n",
              " 22,\n",
              " 23,\n",
              " 24,\n",
              " 25,\n",
              " 26,\n",
              " 27,\n",
              " 28,\n",
              " 29,\n",
              " 30,\n",
              " 31,\n",
              " 32,\n",
              " 33,\n",
              " 34,\n",
              " 35,\n",
              " 36,\n",
              " 37,\n",
              " 38,\n",
              " 39,\n",
              " 40,\n",
              " 41,\n",
              " 42,\n",
              " 43,\n",
              " 44,\n",
              " 45,\n",
              " 46,\n",
              " 47,\n",
              " 48,\n",
              " 49,\n",
              " 50,\n",
              " 51,\n",
              " 52,\n",
              " 53,\n",
              " 54,\n",
              " 55,\n",
              " 56,\n",
              " 57,\n",
              " 58,\n",
              " 59,\n",
              " 60,\n",
              " 61,\n",
              " 62,\n",
              " 63,\n",
              " 64,\n",
              " 65,\n",
              " 66,\n",
              " 67,\n",
              " 68,\n",
              " 69,\n",
              " 70,\n",
              " 71,\n",
              " 72,\n",
              " 73,\n",
              " 74,\n",
              " 75,\n",
              " 76,\n",
              " 77,\n",
              " 78,\n",
              " 79,\n",
              " 80,\n",
              " 81,\n",
              " 82,\n",
              " 83,\n",
              " 84,\n",
              " 85,\n",
              " 86,\n",
              " 87,\n",
              " 88,\n",
              " 89,\n",
              " 90,\n",
              " 91,\n",
              " 92,\n",
              " 93,\n",
              " 94,\n",
              " 95,\n",
              " 96,\n",
              " 97,\n",
              " 98,\n",
              " 99,\n",
              " 100,\n",
              " 101,\n",
              " 102,\n",
              " 103,\n",
              " 104,\n",
              " 105,\n",
              " 106,\n",
              " 107,\n",
              " 108,\n",
              " 109,\n",
              " 110,\n",
              " 111,\n",
              " 112,\n",
              " 113,\n",
              " 114,\n",
              " 115,\n",
              " 116,\n",
              " 117,\n",
              " 118,\n",
              " 119,\n",
              " 120,\n",
              " 121,\n",
              " 122,\n",
              " 123,\n",
              " 124,\n",
              " 125,\n",
              " 126,\n",
              " 127,\n",
              " 128,\n",
              " 129,\n",
              " 130,\n",
              " 131,\n",
              " 132,\n",
              " 133,\n",
              " 134,\n",
              " 135,\n",
              " 136,\n",
              " 137,\n",
              " 138,\n",
              " 139,\n",
              " 140,\n",
              " 141,\n",
              " 142,\n",
              " 143,\n",
              " 144,\n",
              " 145,\n",
              " 146,\n",
              " 147,\n",
              " 148,\n",
              " 149,\n",
              " 150,\n",
              " 151,\n",
              " 152,\n",
              " 153,\n",
              " 154,\n",
              " 155,\n",
              " 156,\n",
              " 157,\n",
              " 158,\n",
              " 159,\n",
              " 160,\n",
              " 161,\n",
              " 162,\n",
              " 163,\n",
              " 164,\n",
              " 165,\n",
              " 166,\n",
              " 167,\n",
              " 168,\n",
              " 169,\n",
              " 170,\n",
              " 171,\n",
              " 172,\n",
              " 173,\n",
              " 174,\n",
              " 175,\n",
              " 176,\n",
              " 177,\n",
              " 178,\n",
              " 179,\n",
              " 180,\n",
              " 181,\n",
              " 182,\n",
              " 183,\n",
              " 184,\n",
              " 185,\n",
              " 186,\n",
              " 187,\n",
              " 188,\n",
              " 189,\n",
              " 190,\n",
              " 191,\n",
              " 192,\n",
              " 193,\n",
              " 194,\n",
              " 195,\n",
              " 196,\n",
              " 197,\n",
              " 198,\n",
              " 199,\n",
              " 200,\n",
              " 201,\n",
              " 202,\n",
              " 203,\n",
              " 204,\n",
              " 205,\n",
              " 206,\n",
              " 207,\n",
              " 208,\n",
              " 209,\n",
              " 210,\n",
              " 211,\n",
              " 212,\n",
              " 213,\n",
              " 214,\n",
              " 215,\n",
              " 216,\n",
              " 217,\n",
              " 218,\n",
              " 219,\n",
              " 220,\n",
              " 221,\n",
              " 222,\n",
              " 223,\n",
              " 224,\n",
              " 225,\n",
              " 226,\n",
              " 227,\n",
              " 228,\n",
              " 229,\n",
              " 230,\n",
              " 231,\n",
              " 232,\n",
              " 233,\n",
              " 234,\n",
              " 235,\n",
              " 236,\n",
              " 237,\n",
              " 238,\n",
              " 239,\n",
              " 240,\n",
              " 241,\n",
              " 242,\n",
              " 243,\n",
              " 244,\n",
              " 245,\n",
              " 246,\n",
              " 247,\n",
              " 248,\n",
              " 249,\n",
              " 250,\n",
              " 251,\n",
              " 252,\n",
              " 253,\n",
              " 254,\n",
              " 255,\n",
              " 256,\n",
              " 257,\n",
              " 258,\n",
              " 259,\n",
              " 260,\n",
              " 261,\n",
              " 262,\n",
              " 263,\n",
              " 264,\n",
              " 265,\n",
              " 266,\n",
              " 267,\n",
              " 268,\n",
              " 269,\n",
              " 270,\n",
              " 271,\n",
              " 272,\n",
              " 273,\n",
              " 274,\n",
              " 275,\n",
              " 276,\n",
              " 277,\n",
              " 278,\n",
              " 279,\n",
              " 280,\n",
              " 281,\n",
              " 282,\n",
              " 283,\n",
              " 284,\n",
              " 285,\n",
              " 286,\n",
              " 287,\n",
              " 288,\n",
              " 289,\n",
              " 290,\n",
              " 291,\n",
              " 292,\n",
              " 293,\n",
              " 294,\n",
              " 295,\n",
              " 296,\n",
              " 297,\n",
              " 298,\n",
              " 299,\n",
              " 300,\n",
              " 301,\n",
              " 302,\n",
              " 303,\n",
              " 304,\n",
              " 305,\n",
              " 306,\n",
              " 307,\n",
              " 308,\n",
              " 309,\n",
              " 310,\n",
              " 311,\n",
              " 312,\n",
              " 313,\n",
              " 314,\n",
              " 315,\n",
              " 316,\n",
              " 317,\n",
              " 318,\n",
              " 319,\n",
              " 320,\n",
              " 321,\n",
              " 322,\n",
              " 323,\n",
              " 324,\n",
              " 325,\n",
              " 326,\n",
              " 327,\n",
              " 328,\n",
              " 329,\n",
              " 330,\n",
              " 331,\n",
              " 332,\n",
              " 333,\n",
              " 334,\n",
              " 335,\n",
              " 336,\n",
              " 337,\n",
              " 338,\n",
              " 339,\n",
              " 340,\n",
              " 341,\n",
              " 342,\n",
              " 343,\n",
              " 344,\n",
              " 345,\n",
              " 346,\n",
              " 347,\n",
              " 348,\n",
              " 349,\n",
              " 350,\n",
              " 351,\n",
              " 352,\n",
              " 353,\n",
              " 354,\n",
              " 355,\n",
              " 356,\n",
              " 357,\n",
              " 358,\n",
              " 359,\n",
              " 360,\n",
              " 361,\n",
              " 362,\n",
              " 363,\n",
              " 364,\n",
              " 365,\n",
              " 366,\n",
              " 367,\n",
              " 368,\n",
              " 369,\n",
              " 370,\n",
              " 371,\n",
              " 372,\n",
              " 373,\n",
              " 374,\n",
              " 375,\n",
              " 376,\n",
              " 377,\n",
              " 378,\n",
              " 379,\n",
              " 380,\n",
              " 381,\n",
              " 382,\n",
              " 383,\n",
              " 384,\n",
              " 385,\n",
              " 386,\n",
              " 387,\n",
              " 388,\n",
              " 389,\n",
              " 390,\n",
              " 391,\n",
              " 392,\n",
              " 393,\n",
              " 394,\n",
              " 395,\n",
              " 396,\n",
              " 397,\n",
              " 398,\n",
              " 399,\n",
              " 400,\n",
              " 401,\n",
              " 402,\n",
              " 403,\n",
              " 404,\n",
              " 405,\n",
              " 406,\n",
              " 407,\n",
              " 408,\n",
              " 409,\n",
              " 410,\n",
              " 411,\n",
              " 412,\n",
              " 413,\n",
              " 414,\n",
              " 415,\n",
              " 416,\n",
              " 417,\n",
              " 418,\n",
              " 419,\n",
              " 420,\n",
              " 421,\n",
              " 422,\n",
              " 423,\n",
              " 424,\n",
              " 425,\n",
              " 426,\n",
              " 427,\n",
              " 428,\n",
              " 429,\n",
              " 430,\n",
              " 431,\n",
              " 432,\n",
              " 433,\n",
              " 434,\n",
              " 435,\n",
              " 436,\n",
              " 437,\n",
              " 438,\n",
              " 439,\n",
              " 440,\n",
              " 441,\n",
              " 442,\n",
              " 443,\n",
              " 444,\n",
              " 445,\n",
              " 446,\n",
              " 447,\n",
              " 448,\n",
              " 449,\n",
              " 450,\n",
              " 451,\n",
              " 452,\n",
              " 453,\n",
              " 454,\n",
              " 455,\n",
              " 456,\n",
              " 457,\n",
              " 458,\n",
              " 459,\n",
              " 460,\n",
              " 461,\n",
              " 462,\n",
              " 463,\n",
              " 464,\n",
              " 465,\n",
              " 466,\n",
              " 467,\n",
              " 468,\n",
              " 469,\n",
              " 470,\n",
              " 471,\n",
              " 472,\n",
              " 473,\n",
              " 474,\n",
              " 475,\n",
              " 476,\n",
              " 477,\n",
              " 478,\n",
              " 479,\n",
              " 480,\n",
              " 481,\n",
              " 482,\n",
              " 483,\n",
              " 484,\n",
              " 485,\n",
              " 486,\n",
              " 487,\n",
              " 488,\n",
              " 489,\n",
              " 490,\n",
              " 491,\n",
              " 492,\n",
              " 493,\n",
              " 494,\n",
              " 495,\n",
              " 496,\n",
              " 497,\n",
              " 498,\n",
              " 499,\n",
              " 500,\n",
              " 501,\n",
              " 502,\n",
              " 503,\n",
              " 504,\n",
              " 505,\n",
              " 506,\n",
              " 507,\n",
              " 508,\n",
              " 509,\n",
              " 510,\n",
              " 511,\n",
              " 512,\n",
              " 513,\n",
              " 514,\n",
              " 515,\n",
              " 516,\n",
              " 517,\n",
              " 518,\n",
              " 519,\n",
              " 520,\n",
              " 521,\n",
              " 522,\n",
              " 523,\n",
              " 524,\n",
              " 525,\n",
              " 526,\n",
              " 527,\n",
              " 528,\n",
              " 529,\n",
              " 530]"
            ]
          },
          "metadata": {
            "tags": []
          },
          "execution_count": 32
        }
      ]
    },
    {
      "cell_type": "code",
      "metadata": {
        "id": "3sohhuIML-bM",
        "colab_type": "code",
        "outputId": "05c4a3fe-0563-4a0f-e738-8296b2e06fb0",
        "colab": {
          "base_uri": "https://localhost:8080/",
          "height": 269
        }
      },
      "source": [
        "# Scatter plot\n",
        "\n",
        "plt.scatter(index, x_bar, c = 'b')\n",
        "plt.show()"
      ],
      "execution_count": 0,
      "outputs": [
        {
          "output_type": "display_data",
          "data": {
            "image/png": "[encoded data removed]",
            "text/plain": [
              "<Figure size 432x288 with 1 Axes>"
            ]
          },
          "metadata": {
            "tags": []
          }
        }
      ]
    },
    {
      "cell_type": "markdown",
      "metadata": {
        "id": "M_vCOWVgL-bR",
        "colab_type": "text"
      },
      "source": [
        "#####  1.2.2.6.2 3D"
      ]
    },
    {
      "cell_type": "code",
      "metadata": {
        "id": "qDeO-QVhL-bS",
        "colab_type": "code",
        "outputId": "6bf4d21f-9e8f-4f32-e2c9-e4bb4eafed7a",
        "colab": {
          "base_uri": "https://localhost:8080/",
          "height": 255
        }
      },
      "source": [
        "fig = plt.figure()\n",
        "ax = fig.add_subplot(111, projection='3d')\n",
        "\n",
        "ax.set_xlabel('X Label')\n",
        "ax.set_ylabel('Y Label')\n",
        "ax.set_zlabel('Z Label')\n",
        "\n",
        "ax.set_xlim3d((0, 1))\n",
        "ax.set_ylim3d((0, 1))\n",
        "ax.set_zlim3d((0, 1))\n",
        "\n",
        "points = np.random.random((50, 3))\n",
        "\n",
        "for i in points:\n",
        "    ax.scatter(i[0], i[1], i[2], c = 'r', marker = ',')\n",
        "    \n",
        "plt.show()"
      ],
      "execution_count": 0,
      "outputs": [
        {
          "output_type": "display_data",
          "data": {
            "image/png": "[encoded data removed]",
            "text/plain": [
              "<Figure size 432x288 with 1 Axes>"
            ]
          },
          "metadata": {
            "tags": []
          }
        }
      ]
    },
    {
      "cell_type": "markdown",
      "metadata": {
        "id": "WUXn8cfDqd5q",
        "colab_type": "text"
      },
      "source": [
        "##1.3 Vetorização em python\n",
        "\n",
        "A vetorização é basicamente a arte de se livrar de laços (tipo for) em algoritmos. Utilizar vetorização não apenas \"enxuga\" o código como também nos permite aproveitar a paralelização da execução de códigos de forma transparente. Não precisamos nos preocupar com os detalhes da implementação, apenas usar. Nesta seção, iremos observar experimentalmente o porque a vetorização é imprescindível. Além disso, iremos também testar alguns exemplos para fixar a sua utilização.\n",
        "\n",
        "Observe o seguinte código abaixo. Este código aplica o produto escalar entre 2 vetores com 1 milhão de elementos. Observe a diferença de velocidade de execução utilizando um loop e a versão vetorizada."
      ]
    },
    {
      "cell_type": "code",
      "metadata": {
        "id": "HKjbtU9tqyym",
        "colab_type": "code",
        "outputId": "529ca767-96c1-4d7f-9d38-825f6c25f33c",
        "colab": {
          "base_uri": "https://localhost:8080/",
          "height": 85
        }
      },
      "source": [
        "import numpy as np\n",
        "import time\n",
        "\n",
        "a = np.random.rand(1000000)\n",
        "b = np.random.rand(1000000)\n",
        "\n",
        "tic = time.time()\n",
        "c = np.dot(a,b)\n",
        "tac = time.time()\n",
        "dt1 = 1000*(tac-tic)\n",
        "print(\"Versão vetorizada: \" + str((dt1)) + \" ms\")\n",
        "\n",
        "tic = time.time()\n",
        "for i in range(1000000):\n",
        "  c += a[i] * b[i]\n",
        "tac = time.time()\n",
        "\n",
        "dt2 = 1000*(tac-tic)\n",
        "print(\"Versão loop for: \" + str((dt2)) + \" ms\")\n",
        "print(\"A versão vetorizada é \" + str((dt2/dt1)) + \"x mais rápida!\")"
      ],
      "execution_count": 0,
      "outputs": [
        {
          "output_type": "stream",
          "text": [
            "[1 2 3 4]\n",
            "Versão vetorizada: 1.85608863831 ms\n",
            "Versão loop for: 630.362033844 ms\n",
            "A versão vetorizada é 339.61849711x mais rápida!\n"
          ],
          "name": "stdout"
        }
      ]
    },
    {
      "cell_type": "markdown",
      "metadata": {
        "id": "kZbT7GXXq2_7",
        "colab_type": "text"
      },
      "source": [
        "Agora vamos ao segundo exemplo. Dado um vetor de 100000 elementos, vamos executar os seguintes passos\n",
        "- aplicar as funções exponencial e logaritmo de cada elemento do vetor em um loop for\n",
        "- aplicar as funções exponencial, logaritmo e módulo de cada elemento do vetor utilizando vetorização"
      ]
    },
    {
      "cell_type": "code",
      "metadata": {
        "id": "CFCma3LFrdHu",
        "colab_type": "code",
        "outputId": "d675910e-8e47-4001-875d-aaad819cc989",
        "colab": {
          "base_uri": "https://localhost:8080/",
          "height": 68
        }
      },
      "source": [
        "import math\n",
        "n = 100000\n",
        "\n",
        "v = np.random.rand(n)\n",
        "u = np.zeros(n)\n",
        "\n",
        "tic = time.time()\n",
        "for i in range(n):\n",
        "  math.exp(v[i])\n",
        "  math.log(v[i])\n",
        " \n",
        "tac = time.time()\n",
        "dt1 = 1000*(tac-tic)\n",
        "\n",
        "print(\"Versão loop for: \" + str((dt1)) + \" ms\")\n",
        "\n",
        "\n",
        "tic = time.time()\n",
        "u = np.exp(v)\n",
        "u = np.log(v)\n",
        "u = np.abs(v)\n",
        "tac = time.time()\n",
        "dt2 = 1000*(tac-tic)\n",
        "print(\"Versão vetorizada: \" + str((dt2)) + \" ms\")\n",
        "print(\"A versão vetorizada é \" + str((dt1/dt2)) + \"x mais rápida\")"
      ],
      "execution_count": 0,
      "outputs": [
        {
          "output_type": "stream",
          "text": [
            "Versão loop for: 72.8318691254 ms\n",
            "Versão vetorizada: 6.02197647095 ms\n",
            "A versão vetorizada é 12.0943463457x mais rápida\n"
          ],
          "name": "stdout"
        }
      ]
    },
    {
      "cell_type": "markdown",
      "metadata": {
        "id": "rsh_Q_gI3xsR",
        "colab_type": "text"
      },
      "source": [
        "Espero que tenha ficado claro a importancia de utilizar a vetorização em python. Agora, você tem todas as ferramentas básicas para iniciar o seu trabalho. Boa sorte :)"
      ]
    },
    {
      "cell_type": "markdown",
      "metadata": {
        "id": "BSw5VC7MaeVG",
        "colab_type": "text"
      },
      "source": [
        "# Créditos\n",
        "-----------------------------------------------------------------------------------------------------------------------------\n",
        "*   @author Thales Valente\n",
        "*   @contact: thales.l.a.valente@gmail.com\n",
        "*   @date last version:     08/2019.\n",
        "*   @version 1.0\n",
        "*   @github link: https://github.com/thalesvalente/machinelearning/\n",
        "*\n",
        "*   @Copyright/License\n",
        "*   Educational Material\n",
        "*   All the products under this license are free software: they can be used for both academic and commercial purposes at absolutely no cost.\n",
        "*   There are no paperwork, no royalties, no GNU-like \"copyleft\" restrictions, either. Just download and use it.\n",
        "*   They are licensed under the terms of the MIT license reproduced below, and so are compatible with GPL and also qualifies as Open Source software.\n",
        "*   They are not in the public domain. The legal details are below.\n",
        "*\n",
        "*   The spirit of this license is that you are free to use this material for any purpose at no cost without having to ask us.\n",
        "*   The only requirement is that if you do use them, then you should give us credit by including the copyright notice below somewhere in your material.\n",
        "*\n",
        "*   Copyright © 2019 Educational Material\n",
        "*\n",
        "*   Permission is hereby granted, free of charge, to any person obtaining a copy of this material without restriction, including without limitation the rights to use, copy, modify, merge, publish, distribute, sub license, and/or sell copies of this Material, and to permit persons to whom the Material is furnished to do so, subject to the following conditions:\n",
        "*\n",
        "*   The above copyright notice and this permission notice shall be included in all copies or suavlantial portions of the material.\n",
        "*\n",
        "*   THE MATERIAL IS PROVIDED \"AS IS\", WITHOUT WARRANTY OF ANY KIND, EXPRESS OR IMPLIED, INCLUDING BUT NOT LIMITED TO THE WARRANTIES OF MERCHANTABILITY,  FITNESS FOR A PARTICULAR PURPOSE AND NONINFRINGEMENT. IN NO EVENT SHALL THE AUTHORS OR COPYRIGHT HOLDERS BE LIABLE FOR ANY CLAIM, DAMAGES OR OTHER LIABILITY, WHETHER IN AN ACTION OF CONTRACT, TORT OR OTHERWISE, ARISING FROM, OUT OF OR IN CONNECTION WITH THE MATERIAL OR THE USE OR OTHER DEALINGS IN THE MATERIAL.\n",
        "-----------------------------------------------------------------------------------------------------------------------------\n",
        "-----------------------------------------------------------------------------------------------------------------------------"
      ]
    }
  ]
}